{
 "cells": [
  {
   "cell_type": "markdown",
   "metadata": {},
   "source": [
    "## Build Boston Housing Project\n",
    "\n",
    "#### Introduction\n",
    "In this project, we will develop a neural-net-based regressor to estimate the price of house in Boston."
   ]
  },
  {
   "cell_type": "code",
   "execution_count": 1,
   "metadata": {
    "collapsed": false
   },
   "outputs": [
    {
     "name": "stderr",
     "output_type": "stream",
     "text": [
      "Using TensorFlow backend.\n"
     ]
    }
   ],
   "source": [
    "from __future__ import print_function\n",
    "\n",
    "import os\n",
    "import logging\n",
    "from datetime import datetime\n",
    "\n",
    "import keras\n",
    "import numpy as np\n",
    "import pandas as pd\n",
    "import sklearn as sk\n",
    "import matplotlib.pyplot as plt \n",
    "\n",
    "%matplotlib inline"
   ]
  },
  {
   "cell_type": "markdown",
   "metadata": {},
   "source": [
    "### Prepare Data\n",
    "In this section, we will prepare the training and test data for this project"
   ]
  },
  {
   "cell_type": "code",
   "execution_count": 2,
   "metadata": {
    "collapsed": false
   },
   "outputs": [
    {
     "name": "stderr",
     "output_type": "stream",
     "text": [
      "/Users/yizhang/anaconda3/lib/python3.6/site-packages/sklearn/cross_validation.py:44: DeprecationWarning: This module was deprecated in version 0.18 in favor of the model_selection module into which all the refactored classes and functions are moved. Also note that the interface of the new CV iterators are different from that of this module. This module will be removed in 0.20.\n",
      "  \"This module will be removed in 0.20.\", DeprecationWarning)\n"
     ]
    }
   ],
   "source": [
    "from sklearn.datasets import load_boston\n",
    "from sklearn.cross_validation import train_test_split\n",
    "\n",
    "boston = load_boston()\n",
    "boston_feat_names = boston.feature_names\n",
    "\n",
    "train_data, test_data, train_targets, test_targets = train_test_split(\n",
    "    boston.data, boston.target, test_size=0.3, random_state=42)"
   ]
  },
  {
   "cell_type": "markdown",
   "metadata": {},
   "source": [
    "visualize the distribution of target values in both train and test sets."
   ]
  },
  {
   "cell_type": "code",
   "execution_count": 3,
   "metadata": {
    "collapsed": false
   },
   "outputs": [
    {
     "data": {
      "image/png": "[encoded data removed]",
      "text/plain": [
       "<matplotlib.figure.Figure at 0x121d3ec50>"
      ]
     },
     "metadata": {},
     "output_type": "display_data"
    }
   ],
   "source": [
    "_ = plt.hist(train_targets, bins=50)\n",
    "_ = plt.hist(test_targets, bins=50)"
   ]
  },
  {
   "cell_type": "markdown",
   "metadata": {},
   "source": [
    "**Figure**: Histograms of target values in both train and test sets. \n",
    "\n",
    "**Discusion**: The distribution of train (blue) looks similiar to test's. KS-test can be used here to quantify the distance of two distributions."
   ]
  },
  {
   "cell_type": "markdown",
   "metadata": {},
   "source": [
    "### Preprocessing\n",
    "Conduct necessary transformation to make data more suitable for the learning algorithm. What we will do here including the following operations:\n",
    "    * normalize predictor variables"
   ]
  },
  {
   "cell_type": "code",
   "execution_count": 4,
   "metadata": {
    "collapsed": true
   },
   "outputs": [],
   "source": [
    "mean = train_data.mean(axis=0)\n",
    "std = train_data.std(axis=0)\n",
    "\n",
    "train_data -= mean\n",
    "train_data /= std \n",
    "test_data -= mean\n",
    "test_data /= std"
   ]
  },
  {
   "cell_type": "markdown",
   "metadata": {},
   "source": [
    "### Building Model\n",
    "In this section, we will build neural nets which will be used to learn the pattern mapping attributes of houses\n",
    "to their prices in Boston."
   ]
  },
  {
   "cell_type": "code",
   "execution_count": 5,
   "metadata": {
    "collapsed": true
   },
   "outputs": [],
   "source": [
    "from keras import models\n",
    "from keras import layers\n",
    "from keras import optimizers\n",
    "from keras import metrics\n",
    "\n",
    "\n",
    "def build_seq_model(lr=0.001):\n",
    "    model = models.Sequential()\n",
    "    model.add(layers.Dense(64, \n",
    "                           activation='relu', \n",
    "                           input_shape=(train_data.shape[1],)))\n",
    "    model.add(layers.Dense(64, activation='relu'))\n",
    "    model.add(layers.Dense(1))\n",
    "    \n",
    "    model.compile(optimizer=optimizers.rmsprop(lr=lr), \n",
    "                  loss=metrics.mse, \n",
    "                  metrics=['mae'])\n",
    "    return model"
   ]
  },
  {
   "cell_type": "code",
   "execution_count": 6,
   "metadata": {
    "collapsed": true
   },
   "outputs": [],
   "source": [
    "def build_model(loss='mse', lr=0.001):\n",
    "    model = models.Sequential()\n",
    "    model.add(layers.Dense(64, \n",
    "                           activation='relu', \n",
    "                           input_shape=(train_data.shape[1],)))\n",
    "    model.add(layers.Dense(64, activation='relu'))\n",
    "    model.add(layers.Dense(1))\n",
    "    \n",
    "    model.compile(optimizer=optimizers.rmsprop(lr=lr), \n",
    "                  loss=loss, \n",
    "                  metrics=['mae'])\n",
    "    return model"
   ]
  },
  {
   "cell_type": "code",
   "execution_count": 12,
   "metadata": {
    "collapsed": true
   },
   "outputs": [],
   "source": [
    "from keras.callbacks import TensorBoard\n",
    "\n",
    "callback_list = [\n",
    "    TensorBoard(\n",
    "        log_dir='my_log_dir',\n",
    "        histogram_freq=1,\n",
    "        embeddings_freq=1\n",
    "    )\n",
    "]"
   ]
  },
  {
   "cell_type": "markdown",
   "metadata": {},
   "source": [
    "### Train Model and Meausre Performance wth K-fold cross-validation"
   ]
  },
  {
   "cell_type": "code",
   "execution_count": 14,
   "metadata": {
    "collapsed": false
   },
   "outputs": [
    {
     "name": "stdout",
     "output_type": "stream",
     "text": [
      "processing fold: 0\n",
      "* time cost: 122.8 seconds\n",
      "processing fold: 1\n",
      "* time cost: 121.8 seconds\n",
      "processing fold: 2\n",
      "* time cost: 122.3 seconds\n",
      "processing fold: 3\n",
      "* time cost: 124.9 seconds\n"
     ]
    }
   ],
   "source": [
    "import numpy as np \n",
    "\n",
    "k = 4 \n",
    "num_val_samples = len(train_data) // k \n",
    "num_epochs = 500 \n",
    "all_mae_histories = []\n",
    "# all_mape_histories = []\n",
    "\n",
    "for i in range(k):\n",
    "    print('processing fold: {}'.format(i))\n",
    "    start_time = datetime.now()\n",
    "\n",
    "    val_data = train_data[i * num_val_samples: (i + 1) * num_val_samples]\n",
    "    val_targets = train_targets[i * num_val_samples: (i + 1) * num_val_samples]\n",
    "    \n",
    "    partial_train_data = np.concatenate(\n",
    "        [train_data[:i * num_val_samples], \n",
    "         train_data[(i + 1) * num_val_samples:]],\n",
    "        axis=0)\n",
    "    partial_train_targets = np.concatenate(\n",
    "        [train_targets[:i * num_val_samples], \n",
    "         train_targets[(i + 1) * num_val_samples:]], \n",
    "        axis=0)\n",
    "    \n",
    "    model = build_seq_model()\n",
    "    history = model.fit(partial_train_data, \n",
    "                        partial_train_targets, \n",
    "                        # callbacks=callback_list,\n",
    "                        validation_data=(val_data, val_targets),\n",
    "                        epochs=num_epochs, \n",
    "                        batch_size=1, \n",
    "                        verbose=0)\n",
    "    \n",
    "    mae_history = history.history['val_mean_absolute_error']\n",
    "    all_mae_histories.append(mae_history)\n",
    "    \n",
    "    duration = (datetime.now() - start_time).total_seconds()\n",
    "    print(\"* time cost: {:.1f} seconds\".format(duration))"
   ]
  },
  {
   "cell_type": "code",
   "execution_count": 71,
   "metadata": {
    "collapsed": false
   },
   "outputs": [
    {
     "name": "stdout",
     "output_type": "stream",
     "text": [
      "processing fold: 0\n",
      "* time cost: 122.6 seconds\n",
      "processing fold: 1\n",
      "* time cost: 124.7 seconds\n",
      "processing fold: 2\n",
      "* time cost: 121.9 seconds\n",
      "processing fold: 3\n",
      "* time cost: 122.5 seconds\n"
     ]
    }
   ],
   "source": [
    "import numpy as np \n",
    "\n",
    "k = 4 \n",
    "num_val_samples = len(train_data) // k \n",
    "num_epochs = 500 \n",
    "all_mae_histories_loss_mae = []\n",
    "\n",
    "for i in range(k):\n",
    "    print('processing fold: {}'.format(i))\n",
    "    start_time = datetime.now()\n",
    "\n",
    "    val_data = train_data[i * num_val_samples: (i + 1) * num_val_samples]\n",
    "    val_targets = train_targets[i * num_val_samples: (i + 1) * num_val_samples]\n",
    "    \n",
    "    partial_train_data = np.concatenate(\n",
    "        [train_data[:i * num_val_samples], \n",
    "         train_data[(i + 1) * num_val_samples:]],\n",
    "        axis=0)\n",
    "    partial_train_targets = np.concatenate(\n",
    "        [train_targets[:i * num_val_samples], \n",
    "         train_targets[(i + 1) * num_val_samples:]], \n",
    "        axis=0)\n",
    "    \n",
    "    model = build_model(loss='mae')\n",
    "    history = model.fit(partial_train_data, \n",
    "                        partial_train_targets, \n",
    "                        validation_data=(val_data, val_targets),\n",
    "                        epochs=num_epochs, \n",
    "                        batch_size=1, \n",
    "                        verbose=0)\n",
    "    \n",
    "    mae_history = history.history['val_mean_absolute_error']\n",
    "    all_mae_histories_loss_mae.append(mae_history)\n",
    "    \n",
    "    duration = (datetime.now() - start_time).total_seconds()\n",
    "    print(\"* time cost: {:.1f} seconds\".format(duration))"
   ]
  },
  {
   "cell_type": "code",
   "execution_count": 72,
   "metadata": {
    "collapsed": false
   },
   "outputs": [
    {
     "name": "stdout",
     "output_type": "stream",
     "text": [
      "processing fold: 0\n",
      "* time cost: 125.8 seconds\n",
      "processing fold: 1\n",
      "* time cost: 129.8 seconds\n",
      "processing fold: 2\n",
      "* time cost: 130.3 seconds\n",
      "processing fold: 3\n",
      "* time cost: 129.8 seconds\n"
     ]
    }
   ],
   "source": [
    "import numpy as np \n",
    "\n",
    "k = 4 \n",
    "num_val_samples = len(train_data) // k \n",
    "num_epochs = 500 \n",
    "all_mae_histories_loss_mape = []\n",
    "\n",
    "for i in range(k):\n",
    "    print('processing fold: {}'.format(i))\n",
    "    start_time = datetime.now()\n",
    "\n",
    "    val_data = train_data[i * num_val_samples: (i + 1) * num_val_samples]\n",
    "    val_targets = train_targets[i * num_val_samples: (i + 1) * num_val_samples]\n",
    "    \n",
    "    partial_train_data = np.concatenate(\n",
    "        [train_data[:i * num_val_samples], \n",
    "         train_data[(i + 1) * num_val_samples:]],\n",
    "        axis=0)\n",
    "    partial_train_targets = np.concatenate(\n",
    "        [train_targets[:i * num_val_samples], \n",
    "         train_targets[(i + 1) * num_val_samples:]], \n",
    "        axis=0)\n",
    "    \n",
    "    model = build_model(loss='mape')\n",
    "    history = model.fit(partial_train_data, \n",
    "                        partial_train_targets, \n",
    "                        validation_data=(val_data, val_targets),\n",
    "                        epochs=num_epochs, \n",
    "                        batch_size=1, \n",
    "                        verbose=0)\n",
    "    \n",
    "    mae_history = history.history['val_mean_absolute_error']\n",
    "    all_mae_histories_loss_mape.append(mae_history)\n",
    "    \n",
    "    duration = (datetime.now() - start_time).total_seconds()\n",
    "    print(\"* time cost: {:.1f} seconds\".format(duration))"
   ]
  },
  {
   "cell_type": "markdown",
   "metadata": {},
   "source": [
    "visualize the perofmrance computed with validation data"
   ]
  },
  {
   "cell_type": "code",
   "execution_count": 38,
   "metadata": {
    "collapsed": true
   },
   "outputs": [],
   "source": [
    "def smooth_curve(points, factor=0.9):\n",
    "    \"\"\"\n",
    "    \"\"\"\n",
    "    smoothed_points = []\n",
    "    for point in points:\n",
    "        if smoothed_points:\n",
    "            previous = smoothed_points[-1]\n",
    "            smoothed_points.append(previous * factor + point * (1-factor))\n",
    "        else:\n",
    "            smoothed_points.append(point)\n",
    "    return smoothed_points"
   ]
  },
  {
   "cell_type": "code",
   "execution_count": 68,
   "metadata": {
    "collapsed": false
   },
   "outputs": [
    {
     "data": {
      "image/png": "[encoded data removed]",
      "text/plain": [
       "<matplotlib.figure.Figure at 0x129988c18>"
      ]
     },
     "metadata": {},
     "output_type": "display_data"
    }
   ],
   "source": [
    "for ii in range(len(all_mae_histories)):\n",
    "    smoothed_all_mae_histories = smooth_curve(all_mae_histories[ii])\n",
    "    plt.plot(range(1, len(smoothed_all_mae_histories)+1), smoothed_all_mae_histories)\n",
    "    plt.xlabel('epochs')\n",
    "    plt.ylabel('Validation: MAE')"
   ]
  },
  {
   "cell_type": "code",
   "execution_count": 75,
   "metadata": {
    "collapsed": false
   },
   "outputs": [
    {
     "data": {
      "image/png": "[encoded data removed]",
      "text/plain": [
       "<matplotlib.figure.Figure at 0x12c8dc908>"
      ]
     },
     "metadata": {},
     "output_type": "display_data"
    }
   ],
   "source": [
    "for ii in range(len(all_mae_histories_loss_mape)):\n",
    "    smoothed_all_mae_histories = smooth_curve(all_mae_histories_loss_mae[ii])\n",
    "    plt.plot(range(1, len(smoothed_all_mae_histories)+1), smoothed_all_mae_histories)\n",
    "    plt.xlabel('epochs')\n",
    "    plt.ylabel('Validation: MAE')"
   ]
  },
  {
   "cell_type": "code",
   "execution_count": 74,
   "metadata": {
    "collapsed": false
   },
   "outputs": [
    {
     "data": {
      "image/png": "[encoded data removed]",
      "text/plain": [
       "<matplotlib.figure.Figure at 0x12b0ffe80>"
      ]
     },
     "metadata": {},
     "output_type": "display_data"
    }
   ],
   "source": [
    "for ii in range(len(all_mae_histories_loss_mape)):\n",
    "    smoothed_all_mae_histories = smooth_curve(all_mae_histories_loss_mape[ii])\n",
    "    plt.plot(range(1, len(smoothed_all_mae_histories)+1), smoothed_all_mae_histories)\n",
    "    plt.xlabel('epochs')\n",
    "    plt.ylabel('Validation: MAE')"
   ]
  },
  {
   "cell_type": "code",
   "execution_count": 62,
   "metadata": {
    "collapsed": false
   },
   "outputs": [
    {
     "data": {
      "text/plain": [
       "<matplotlib.text.Text at 0x12998b6d8>"
      ]
     },
     "execution_count": 62,
     "metadata": {},
     "output_type": "execute_result"
    },
    {
     "data": {
      "image/png": "[encoded data removed]",
      "text/plain": [
       "<matplotlib.figure.Figure at 0x12990b358>"
      ]
     },
     "metadata": {},
     "output_type": "display_data"
    }
   ],
   "source": [
    "test_pred_target = model.predict(test_data).flatten()\n",
    "\n",
    "plt.scatter(x=test_pred_target, y=test_targets)\n",
    "plt.xlabel('Estimated Price')\n",
    "plt.ylabel('Actual Price')"
   ]
  },
  {
   "cell_type": "markdown",
   "metadata": {},
   "source": [
    "check the optimal evaulation can be achieved with training with different loss function."
   ]
  },
  {
   "cell_type": "code",
   "execution_count": 83,
   "metadata": {
    "collapsed": false
   },
   "outputs": [
    {
     "data": {
      "text/plain": [
       "(2.3767296238379045, 2.480926714160226, 2.632128807631406)"
      ]
     },
     "execution_count": 83,
     "metadata": {},
     "output_type": "execute_result"
    }
   ],
   "source": [
    "np.min(all_mae_histories), np.min(all_mae_histories_loss_mae), np.min(all_mae_histories_loss_mape)"
   ]
  }
 ],
 "metadata": {
  "kernelspec": {
   "display_name": "Python 3",
   "language": "python",
   "name": "python3"
  },
  "language_info": {
   "codemirror_mode": {
    "name": "ipython",
    "version": 3
   },
   "file_extension": ".py",
   "mimetype": "text/x-python",
   "name": "python",
   "nbconvert_exporter": "python",
   "pygments_lexer": "ipython3",
   "version": "3.6.0"
  }
 },
 "nbformat": 4,
 "nbformat_minor": 2
}
